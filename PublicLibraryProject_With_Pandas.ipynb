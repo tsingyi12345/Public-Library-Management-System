{
 "cells": [
  {
   "cell_type": "markdown",
   "id": "490f53d0",
   "metadata": {
    "id": "490f53d0"
   },
   "source": [
    "## Install Needed Library"
   ]
  },
  {
   "cell_type": "code",
   "execution_count": 1,
   "id": "6729e4f5",
   "metadata": {
    "id": "6729e4f5"
   },
   "outputs": [],
   "source": [
    "# ! pip install mysql-connector-python --quiet\n",
    "# ! pip install pandas --quiet\n",
    "# ! pip install SQLAlchemy --quiet"
   ]
  },
  {
   "cell_type": "markdown",
   "id": "36e41884",
   "metadata": {
    "id": "36e41884"
   },
   "source": [
    "## Importing the Library"
   ]
  },
  {
   "cell_type": "code",
   "execution_count": 2,
   "id": "cbbe07ee",
   "metadata": {
    "id": "cbbe07ee"
   },
   "outputs": [],
   "source": [
    "import mysql.connector\n",
    "import pandas as pd\n",
    "\n",
    "from sqlalchemy import create_engine\n",
    "from sqlalchemy.exc import SQLAlchemyError\n"
   ]
  },
  {
   "cell_type": "markdown",
   "id": "15e49f8a",
   "metadata": {
    "id": "15e49f8a"
   },
   "source": [
    "## Import Credentials"
   ]
  },
  {
   "cell_type": "code",
   "execution_count": null,
   "id": "58838e5a",
   "metadata": {
    "id": "58838e5a"
   },
   "outputs": [],
   "source": [
    "## Global Variables\n",
    "\n",
    "host       = \"localhost\"\n",
    "user       = \"newuser\"\n",
    "password   = \"12345\"\n",
    "database   = \"db_public_library_project\"\n",
    "table_name = \"library_database\"\n",
    "\n",
    "csv_path   = '/Users/moneebhussan/Downloads/LibraryDatasets.csv'\n",
    "# csv_path = r'B:\\Documents\\Repository\\Xccelerate_Files\\Moneeb\\Public-Library-Management-System-main\\LibraryDatasets.csv'"
   ]
  },
  {
   "cell_type": "markdown",
   "id": "31d97e48",
   "metadata": {
    "id": "31d97e48"
   },
   "source": [
    "## Library System Function"
   ]
  },
  {
   "cell_type": "code",
   "execution_count": 4,
   "id": "55f526b6",
   "metadata": {
    "id": "55f526b6"
   },
   "outputs": [],
   "source": [
    "# Initialize Database\n",
    "def database_init(h, u, p, db=None):\n",
    "    \"\"\"\n",
    "    If db is None, returns a connection without selecting a database.\n",
    "    Otherwise connects to the specified database.\n",
    "    \"\"\"\n",
    "    if db:\n",
    "        return mysql.connector.connect(host=h, user=u, password=p, database=db)\n",
    "    else:\n",
    "        return mysql.connector.connect(host=h, user=u, password=p)"
   ]
  },
  {
   "cell_type": "code",
   "execution_count": 5,
   "id": "f1e8f947",
   "metadata": {
    "id": "f1e8f947",
    "outputId": "0e2046e5-e5d4-418f-bbb6-36724871a159"
   },
   "outputs": [],
   "source": [
    "# ## Checker\n",
    "# database_init(host, user, password)"
   ]
  },
  {
   "cell_type": "code",
   "execution_count": 6,
   "id": "5ee23eef",
   "metadata": {
    "id": "5ee23eef"
   },
   "outputs": [],
   "source": [
    "## Crrate a datbase if not yet existed\n",
    "def ensure_database_exists():\n",
    "    \"\"\"Create the database if it doesn't already exist.\"\"\"\n",
    "    conn = database_init(host, user, password)\n",
    "    cursor = conn.cursor()\n",
    "    cursor.execute(f\"CREATE DATABASE IF NOT EXISTS `{database}`\")\n",
    "    conn.commit()\n",
    "    cursor.close()\n",
    "    conn.close()"
   ]
  },
  {
   "cell_type": "code",
   "execution_count": 7,
   "id": "24f3eacf",
   "metadata": {
    "id": "24f3eacf"
   },
   "outputs": [],
   "source": [
    "## Checker\n",
    "# ensure_database_exists()"
   ]
  },
  {
   "cell_type": "code",
   "execution_count": 8,
   "id": "5a6ca1a2",
   "metadata": {
    "id": "5a6ca1a2"
   },
   "outputs": [],
   "source": [
    "## Create a table and insert bulk data\n",
    "\n",
    "def table_creation_and_insert():\n",
    "    \"\"\"Read the CSV and bulk-insert into MySQL using pandas.to_sql.\"\"\"\n",
    "    # 1) Make sure the database exists\n",
    "    ensure_database_exists()\n",
    "\n",
    "    # 2) Read your CSV into pandas\n",
    "    df_books = pd.read_csv(csv_path)\n",
    "\n",
    "    ## Added to clean columns that have spaces\n",
    "    df_books.columns = df_books.columns.str.replace(' ', '', regex=False)\n",
    "\n",
    "    df_books['available'] = df_books['copies']\n",
    "\n",
    "    ## Added to convert ISBN to string in all times\n",
    "    try:\n",
    "        df_books['ISBN'] = df_books['ISBN'].astype('int64').astype(str)\n",
    "    except:\n",
    "        pass\n",
    "\n",
    "    # 3) Build the SQLAlchemy engine (no port in URI)\n",
    "    engine = create_engine(\n",
    "        f\"mysql+mysqlconnector://{user}:{password}@{host}/{database}\",\n",
    "        echo=False\n",
    "    )\n",
    "\n",
    "    try:\n",
    "        # 4) Write to SQL, replacing the table if it exists\n",
    "        df_books.to_sql(\n",
    "            name=table_name,\n",
    "            con=engine,\n",
    "            if_exists=\"fail\",  # or 'append'\n",
    "            index=False,\n",
    "            chunksize=5\n",
    "        )\n",
    "        print(\"✅ Data inserted successfully!\")\n",
    "    except SQLAlchemyError as e:\n",
    "        print(\"❌ Failed to insert data:\", e)\n",
    "    finally:\n",
    "        # 5) Clean up\n",
    "        engine.dispose()\n"
   ]
  },
  {
   "cell_type": "code",
   "execution_count": 9,
   "id": "3af271c6",
   "metadata": {
    "id": "3af271c6",
    "outputId": "6e9fec8e-cf08-4bc9-b0c6-6e847775496d"
   },
   "outputs": [],
   "source": [
    "# ## Checker\n",
    "# table_creation_and_insert()"
   ]
  },
  {
   "cell_type": "code",
   "execution_count": 10,
   "id": "20ecde6a",
   "metadata": {
    "id": "20ecde6a"
   },
   "outputs": [],
   "source": [
    "def list_books():\n",
    "\n",
    "    conn = database_init(host, user, password, database)\n",
    "\n",
    "    cursor = conn.cursor()\n",
    "    cursor.execute(f\"SELECT * FROM {table_name}\")\n",
    "    headers = [col[0] for col in cursor.description]\n",
    "    books = cursor.fetchall()\n",
    "    print(\"\\nAvailable Books:\")\n",
    "\n",
    "    print(headers)\n",
    "    for b in books:\n",
    "        print(b)\n",
    "\n",
    "    cursor.close()\n",
    "    conn.close()"
   ]
  },
  {
   "cell_type": "code",
   "execution_count": 11,
   "id": "942397c3",
   "metadata": {
    "id": "942397c3",
    "outputId": "19d3200c-40ba-46cc-fdf1-5c160f728c57"
   },
   "outputs": [],
   "source": [
    "# ## Checker\n",
    "# list_books()"
   ]
  },
  {
   "cell_type": "code",
   "execution_count": 12,
   "id": "f89c7b1d",
   "metadata": {
    "id": "f89c7b1d"
   },
   "outputs": [],
   "source": [
    "def search_books(keyword):\n",
    "\n",
    "    conn = database_init(host, user, password, database)\n",
    "\n",
    "    cursor = conn.cursor()\n",
    "    query = f\"SELECT * FROM {table_name} WHERE Book_title LIKE %s OR Author LIKE %s\"\n",
    "    param = f\"%{keyword}%\"\n",
    "    cursor.execute(query, (param, param))\n",
    "    results = cursor.fetchall()\n",
    "    headers = [col[0] for col in cursor.description]\n",
    "    if results:\n",
    "        print(f\"\\nSearch Results for '{keyword}':\")\n",
    "        print(headers)\n",
    "        for r in results:\n",
    "            print(r)\n",
    "    else:\n",
    "        print(f\"No books found matching '{keyword}'.\")\n",
    "\n",
    "    cursor.close()\n",
    "    conn.close()"
   ]
  },
  {
   "cell_type": "code",
   "execution_count": 13,
   "id": "a48adfb3",
   "metadata": {
    "id": "a48adfb3"
   },
   "outputs": [],
   "source": [
    "# ## Checker\n",
    "# search_books(\"A Game of Thrones\")"
   ]
  },
  {
   "cell_type": "code",
   "execution_count": 14,
   "id": "45ad769c",
   "metadata": {
    "id": "45ad769c"
   },
   "outputs": [],
   "source": [
    "def issue_book(ISBN):\n",
    "    ISBN = str(ISBN)\n",
    "\n",
    "    conn = database_init(host, user, password, database)\n",
    "    cursor = conn.cursor()\n",
    "    \n",
    "    try:\n",
    "        # 1) Check how many available copies exist\n",
    "        query = f\"SELECT available FROM {table_name} WHERE ISBN = %s\"\n",
    "        print(f\"Executing query: {query} with parameter: {ISBN}\")\n",
    "        cursor.execute(query, (ISBN,))\n",
    "        row = cursor.fetchone()\n",
    "    \n",
    "        if row and row[0] > 0:\n",
    "            # 2) Decrement available count\n",
    "            update_query = (\n",
    "                f\"UPDATE {table_name} \"\n",
    "                f\"SET available = available - 1 \"\n",
    "                f\"WHERE ISBN = %s\"\n",
    "            )\n",
    "            print(f\"Executing update query: {update_query} with parameter: {ISBN}\")\n",
    "            cursor.execute(update_query, (ISBN,))\n",
    "            conn.commit()\n",
    "            print(\"✅ Book issued successfully.\")\n",
    "        else:\n",
    "            print(\"⚠️ Book is not available for issue.\")\n",
    "    \n",
    "    except Exception as e:\n",
    "        print(f\"❌ Database Error: {e}\")\n",
    "    \n",
    "    finally:\n",
    "        cursor.close()\n",
    "        conn.close()\n"
   ]
  },
  {
   "cell_type": "code",
   "execution_count": 15,
   "id": "304d78cf",
   "metadata": {
    "id": "304d78cf"
   },
   "outputs": [],
   "source": [
    "def return_book(ISBN):\n",
    "\n",
    "    ISBN = str(ISBN)\n",
    "\n",
    "    conn = database_init(host, user, password, database)\n",
    "    cursor = conn.cursor()\n",
    "\n",
    "    try:\n",
    "        # Fetch the current copies for the given ISBN\n",
    "        cursor.execute(\n",
    "            f\"SELECT available FROM {table_name} WHERE `ISBN` = %s\",\n",
    "            (ISBN,)\n",
    "        )\n",
    "        row = cursor.fetchone()\n",
    "\n",
    "        if row:\n",
    "            current_available = row[0]\n",
    "            # Increment the quantity\n",
    "            cursor.execute(\n",
    "                f\"UPDATE {table_name} SET available = available + 1 WHERE `ISBN` = %s\",\n",
    "                (ISBN,)\n",
    "            )\n",
    "            conn.commit()\n",
    "            print(\"Item returned successfully.\")\n",
    "        else:\n",
    "            print(\"⚠️ ISBN.\")\n",
    "\n",
    "    except Exception as e:\n",
    "        print(f\"Error: {e}\")\n",
    "\n",
    "    finally:\n",
    "        # Close the cursor and connection\n",
    "        cursor.close()\n",
    "        conn.close()"
   ]
  },
  {
   "cell_type": "code",
   "execution_count": 19,
   "id": "b02610ae",
   "metadata": {
    "id": "b02610ae"
   },
   "outputs": [],
   "source": [
    "def add_book():\n",
    "    title = input(\"Enter book title: \")\n",
    "    author = input(\"Enter book author: \")\n",
    "    isbn = input(\"Enter book ISBN: \")\n",
    "    try:\n",
    "        copies = int(input(\"Enter number of copies: \"))\n",
    "        available = int(input(\"Enter number of available items: \"))\n",
    "    except ValueError:\n",
    "        print(\"Invalid number. Setting copies to 1.\")\n",
    "        copies = 1\n",
    "\n",
    "    conn = database_init(host, user, password, database)\n",
    "\n",
    "    cursor = conn.cursor()\n",
    "\n",
    "    try:\n",
    "        cursor.execute(\n",
    "            f\"INSERT INTO {table_name} (Book_title, author, isbn, copies, available) VALUES (%s, %s, %s, %s, %s)\",\n",
    "            (title, author, isbn, copies, copies)     \n",
    "        )\n",
    "        conn.commit()\n",
    "        print(\"Book added successfully.\")\n",
    "    except mysql.connector.IntegrityError as e:\n",
    "        print(f\"⚠️ Failed to add book: {e}\")\n",
    "        if \"Duplicate entry\" in str(e):\n",
    "            print(\"⚠️ ISBN or author name already exists in the database.\")\n",
    "\n",
    "    except mysql.connector.Error as err:\n",
    "        print(f\"Database Error: {err}\")\n",
    "\n",
    "    finally:\n",
    "        # Close the cursor and connection\n",
    "        cursor.close()\n",
    "        conn.close()\n",
    "\n"
   ]
  },
  {
   "cell_type": "markdown",
   "id": "82e8e59e",
   "metadata": {
    "id": "82e8e59e"
   },
   "source": [
    "## Combine All Function for the Project"
   ]
  },
  {
   "cell_type": "code",
   "execution_count": 17,
   "id": "ea81fd9f",
   "metadata": {
    "id": "ea81fd9f"
   },
   "outputs": [],
   "source": [
    "def main():\n",
    "    try:\n",
    "        table_creation_and_insert()\n",
    "    except:\n",
    "        print(\"Table is already created - If you want to recreate then delete the table first\")\n",
    "\n",
    "    while True:\n",
    "        print(\"\\nLibrary Management System\")\n",
    "        print(\"1. List all books\")\n",
    "        print(\"2. Search books\")\n",
    "        print(\"3. Issue a book\")\n",
    "        print(\"4. Return a book\")\n",
    "        print(\"5. Add a new book\")\n",
    "        print(\"6. Exit\")\n",
    "        choice = input(\"Enter choice: \")\n",
    "\n",
    "        if choice == '1':\n",
    "            list_books()\n",
    "        elif choice == '2':\n",
    "            kw = input(\"Enter title or author to search: \")\n",
    "            search_books(kw)\n",
    "        elif choice == '3':\n",
    "            bid = input(\"Enter Book ISBN to issue: \")\n",
    "            issue_book(int(bid))\n",
    "        elif choice == '4':\n",
    "            bid = input(\"Enter Book ISBN to return: \")\n",
    "            return_book(int(bid))\n",
    "        elif choice == '5':\n",
    "            add_book()\n",
    "        elif choice == '6':\n",
    "            print(\"Goodbye!\")\n",
    "            break\n",
    "        else:\n",
    "            print(\"Invalid choice. Please try again.\")"
   ]
  },
  {
   "cell_type": "code",
   "execution_count": 20,
   "id": "7997623b",
   "metadata": {
    "id": "7997623b",
    "outputId": "8c793ef6-bd69-4ef5-fa5b-62330ed46966"
   },
   "outputs": [
    {
     "name": "stdout",
     "output_type": "stream",
     "text": [
      "Table is already created - If you want to recreate then delete the table first\n",
      "\n",
      "Library Management System\n",
      "1. List all books\n",
      "2. Search books\n",
      "3. Issue a book\n",
      "4. Return a book\n",
      "5. Add a new book\n",
      "6. Exit\n",
      "Book added successfully.\n",
      "\n",
      "Library Management System\n",
      "1. List all books\n",
      "2. Search books\n",
      "3. Issue a book\n",
      "4. Return a book\n",
      "5. Add a new book\n",
      "6. Exit\n",
      "\n",
      "Available Books:\n",
      "['Book_title', 'Author', 'ISBN', 'copies', 'available']\n",
      "('A Game of Thrones', 'George R.R. Martin', '9780100000000', 3, 3)\n",
      "('The Histories', 'Herodotus', '9780140000000', 5, 5)\n",
      "('One Hundred Years of Solitude', 'Gabriel Garcia Marquez', '9780140000000', 6, 6)\n",
      "('Jane Eyre', 'Charlotte Bronte', '9780140000000', 7, 7)\n",
      "('The Guns of August', 'Barbara W. Tuchman', '9780190000000', 7, 7)\n",
      "('The Alchemist', 'Paulo Coelho', '9780310000000', 5, 5)\n",
      "('Sapiens: A Brief History of Humankind', 'Yuval Noah Harari', '9871280000000', 2, 2)\n",
      "('Animal Farm', 'George Orwell', '9780330000000', 4, 4)\n",
      "('The Diary of a Young Girl', 'Anne Frank', '9780380000000', 3, 3)\n",
      "(\"A People's History of the United States\", 'Howard Zinn', '9780390000000', 4, 4)\n",
      "('Guns, Germs, and Steel: The Fates of Human Societies', 'Jared Diamond', '9780390000000', 5, 5)\n",
      "('The Great Gatsby', 'F. Scott Fitzgerald', '9780530000000', 7, 7)\n",
      "('The Catcher in the Rye', 'J.D. Salinger', '9780550000000', 2, 2)\n",
      "(\"Harry Potter and the Sorcerer's Stone\", 'J.K. Rowling', '9780680000000', 4, 4)\n",
      "('The Da Vinci Code', 'Dan Brown', '9780740000000', 6, 6)\n",
      "('1491: New Revelations of the Americas Before Columbus', 'Charles C. Mann', '9780740000000', 5, 5)\n",
      "('Wizard of Cats', 'Ashner', '12345', 2, 2)\n",
      "\n",
      "Library Management System\n",
      "1. List all books\n",
      "2. Search books\n",
      "3. Issue a book\n",
      "4. Return a book\n",
      "5. Add a new book\n",
      "6. Exit\n",
      "Goodbye!\n"
     ]
    }
   ],
   "source": [
    "main()"
   ]
  }
 ],
 "metadata": {
  "colab": {
   "provenance": []
  },
  "kernelspec": {
   "display_name": "Python 3",
   "language": "python",
   "name": "python3"
  },
  "language_info": {
   "codemirror_mode": {
    "name": "ipython",
    "version": 3
   },
   "file_extension": ".py",
   "mimetype": "text/x-python",
   "name": "python",
   "nbconvert_exporter": "python",
   "pygments_lexer": "ipython3",
   "version": "3.11.10"
  }
 },
 "nbformat": 4,
 "nbformat_minor": 5
}
